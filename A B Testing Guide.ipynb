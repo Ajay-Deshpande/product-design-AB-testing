{
 "cells": [
  {
   "cell_type": "markdown",
   "id": "6eb68352",
   "metadata": {},
   "source": [
    "<b>Notes<b><br/>\n",
    "    \n",
    "A B testing is a powerful statistical method to evaluate the effect of changes in an experiment\n",
    "Can be applied against algorithm, product, feature\n",
    "Control - Current version and Experimental/Treatment group - New version\n",
    "\n",
    "A B testing is reliable because it obtains direct feedback from consumers\n",
    "\n",
    "Steps:\n",
    "Define Hypothesis and primary success metric\n",
    "Designing the experiement and Power Analysis - sample size to claim minimum statistical significance\n",
    "Run the A B test - Here we collect the data from our experiment\n",
    "Choosing the statistical test - Z-test, T-test, Chi-Square test or One-tailed, Two-tailed test\n",
    "Check statistical significance in difference between the groups\n",
    "CTR(Click through rate) - as engagement metric, conversion rates for revenue metrics\n",
    "CTA - Call to Action\n",
    "Desired results - alternative hypothesis\n",
    "\n",
    "\n",
    "Power Analysis - Assume values for significance level (Alpha), power of test (1 - Beta)\n",
    "Calculate minimum Sample size\n",
    "Determine Test duration\n",
    "\n",
    "\n",
    "Power - Probability of correctly rejecting null hypothesis - affects Type II error rate (False Negatives)\n",
    "In other words, correctly identify change effects with (1 - B) probability. Commonly set to 80% (Allows 20% type II error, meaning we may fail to identify the change effects 20% of the time)\n",
    "\n",
    "Statistical Significance - Alpha. Type I error rate, probability of correctly rejecting the null (False positive)\n",
    "(Only detects changes with high percentage of confidence (90, 95 or 99%, for alpha of 10, 5, and 1%)\n",
    "(Surity in our discovering increases with decrease in alpha)\n",
    "\n",
    "\n",
    "Minimum detectable effect - (or desired effect from a change) (delta)\n",
    "\n",
    "\n",
    "Calculating minimum sample size\n",
    "without min size p- hacking\n",
    "\n",
    "Duration of test - (Time taken to achieve sample size data). Sample Size / Number of consumer experiment is applied on daily\n",
    "Note: Carefully consider, holidays, shopping activity in time period (like festivals, etc)...\n",
    "Small test duration can cause novelty effect - people generally react quickly and positive to changes in the beginning\n",
    "Long test duration can cause maturation effect - people get used to the changes\n",
    "\n",
    "\n",
    "control_p = Success_control / N_control\n",
    "exp_p = Success_exp / N_exp\n",
    "\n",
    "p_ = Success/ Total N (N_exp + N_control)\n",
    "\n",
    "variance_p = p_ * (1 - p_) * (1 / N_exp + 1 / N_control)\n",
    "SE = sqrt (variance_p)\n",
    "\n",
    "Find critical value and compare (control_p - exp_p) / SE"
   ]
  },
  {
   "cell_type": "code",
   "execution_count": 1,
   "id": "ad601925",
   "metadata": {},
   "outputs": [],
   "source": [
    "# Import required packages\n",
    "import numpy as np\n",
    "import pandas as pd\n",
    "from scipy.stats import norm"
   ]
  },
  {
   "cell_type": "code",
   "execution_count": 2,
   "id": "620090e5",
   "metadata": {},
   "outputs": [
    {
     "data": {
      "text/html": [
       "<div>\n",
       "<style scoped>\n",
       "    .dataframe tbody tr th:only-of-type {\n",
       "        vertical-align: middle;\n",
       "    }\n",
       "\n",
       "    .dataframe tbody tr th {\n",
       "        vertical-align: top;\n",
       "    }\n",
       "\n",
       "    .dataframe thead th {\n",
       "        text-align: right;\n",
       "    }\n",
       "</style>\n",
       "<table border=\"1\" class=\"dataframe\">\n",
       "  <thead>\n",
       "    <tr style=\"text-align: right;\">\n",
       "      <th></th>\n",
       "      <th>click</th>\n",
       "      <th>group</th>\n",
       "    </tr>\n",
       "  </thead>\n",
       "  <tbody>\n",
       "    <tr>\n",
       "      <th>0</th>\n",
       "      <td>0</td>\n",
       "      <td>exp</td>\n",
       "    </tr>\n",
       "    <tr>\n",
       "      <th>1</th>\n",
       "      <td>0</td>\n",
       "      <td>exp</td>\n",
       "    </tr>\n",
       "    <tr>\n",
       "      <th>2</th>\n",
       "      <td>1</td>\n",
       "      <td>exp</td>\n",
       "    </tr>\n",
       "    <tr>\n",
       "      <th>3</th>\n",
       "      <td>1</td>\n",
       "      <td>exp</td>\n",
       "    </tr>\n",
       "    <tr>\n",
       "      <th>4</th>\n",
       "      <td>1</td>\n",
       "      <td>exp</td>\n",
       "    </tr>\n",
       "    <tr>\n",
       "      <th>...</th>\n",
       "      <td>...</td>\n",
       "      <td>...</td>\n",
       "    </tr>\n",
       "    <tr>\n",
       "      <th>19995</th>\n",
       "      <td>0</td>\n",
       "      <td>con</td>\n",
       "    </tr>\n",
       "    <tr>\n",
       "      <th>19996</th>\n",
       "      <td>0</td>\n",
       "      <td>con</td>\n",
       "    </tr>\n",
       "    <tr>\n",
       "      <th>19997</th>\n",
       "      <td>0</td>\n",
       "      <td>con</td>\n",
       "    </tr>\n",
       "    <tr>\n",
       "      <th>19998</th>\n",
       "      <td>0</td>\n",
       "      <td>con</td>\n",
       "    </tr>\n",
       "    <tr>\n",
       "      <th>19999</th>\n",
       "      <td>1</td>\n",
       "      <td>con</td>\n",
       "    </tr>\n",
       "  </tbody>\n",
       "</table>\n",
       "<p>20000 rows × 2 columns</p>\n",
       "</div>"
      ],
      "text/plain": [
       "       click group\n",
       "0          0   exp\n",
       "1          0   exp\n",
       "2          1   exp\n",
       "3          1   exp\n",
       "4          1   exp\n",
       "...      ...   ...\n",
       "19995      0   con\n",
       "19996      0   con\n",
       "19997      0   con\n",
       "19998      0   con\n",
       "19999      1   con\n",
       "\n",
       "[20000 rows x 2 columns]"
      ]
     },
     "execution_count": 2,
     "metadata": {},
     "output_type": "execute_result"
    }
   ],
   "source": [
    "# Sample code here will skip power analysis and assume a sample size of 10k. \n",
    "N_exp = 10000\n",
    "N_con = 10000\n",
    "# For the sample we will skip the collection of data and assume the web events follow a binomial distribution\n",
    "click_exp = pd.Series(np.random.binomial(1,0.5,size = N_exp))\n",
    "click_con = pd.Series(np.random.binomial(1,0.2,size = N_con))\n",
    "\n",
    "exp_id = pd.Series(np.repeat(\"exp\", N_exp))\n",
    "con_id = pd.Series(np.repeat(\"con\", N_con))\n",
    "\n",
    "df_exp = pd.concat([click_exp,exp_id],axis = 1)\n",
    "df_con = pd.concat([click_con,con_id],axis = 1)\n",
    "\n",
    "df_exp.columns = [\"click\", \"group\"]\n",
    "df_con.columns = [\"click\", \"group\"]\n",
    "\n",
    "df_ab_test = pd.concat([df_exp, df_con], axis=0).reset_index(drop=True)\n",
    "# Data will have 20k rows with 10k each for control and experiment groups\n",
    "df_ab_test"
   ]
  },
  {
   "cell_type": "code",
   "execution_count": 3,
   "id": "457fde42",
   "metadata": {},
   "outputs": [],
   "source": [
    "# Choose a significance level\n",
    "alpha = 0.05"
   ]
  },
  {
   "cell_type": "code",
   "execution_count": 4,
   "id": "6d64c9b4",
   "metadata": {},
   "outputs": [
    {
     "name": "stdout",
     "output_type": "stream",
     "text": [
      "Click Probability in Control Group: 0.2103\n",
      "Click Probability in Experimental Group: 0.499\n",
      "Click probability overall: 0.35465\n"
     ]
    }
   ],
   "source": [
    "# Get the probability of success event for each group\n",
    "p_exp_hat, p_con_hat = df_ab_test.groupby(\"group\")[\"click\"].mean().loc[[\"exp\", \"con\"]].tolist()\n",
    "p_overall_hat = df_ab_test.click.mean()\n",
    "\n",
    "print(\"Click Probability in Control Group:\", p_con_hat)\n",
    "print(\"Click Probability in Experimental Group:\", p_exp_hat)\n",
    "print('Click probability overall:', p_overall_hat)"
   ]
  },
  {
   "cell_type": "code",
   "execution_count": 5,
   "id": "a84d019e",
   "metadata": {},
   "outputs": [
    {
     "name": "stdout",
     "output_type": "stream",
     "text": [
      "Standard Error is:  0.006765698448793\n"
     ]
    }
   ],
   "source": [
    "# Calculate the standard error\n",
    "overall_variance = p_overall_hat * (1 - p_overall_hat) * ((1 / N_exp) + (1 / N_con))\n",
    "\n",
    "SE = np.sqrt(overall_variance)\n",
    "print(\"Standard Error is: \", SE)"
   ]
  },
  {
   "cell_type": "code",
   "execution_count": 6,
   "id": "e7b6ceae",
   "metadata": {},
   "outputs": [
    {
     "name": "stdout",
     "output_type": "stream",
     "text": [
      "Test Statistics for 2-sample Z-test is: -42.671130288330254\n"
     ]
    }
   ],
   "source": [
    "test_statistic = (p_con_hat - p_exp_hat) / SE\n",
    "print(\"Test Statistics for 2-sample Z-test is:\", test_statistic)"
   ]
  },
  {
   "cell_type": "code",
   "execution_count": 7,
   "id": "7c50effe",
   "metadata": {},
   "outputs": [
    {
     "name": "stdout",
     "output_type": "stream",
     "text": [
      "Z-critical value from Standard Normal distribution:  1.6448536269514722\n",
      "P-value of the 2-sample Z-test:  0.0\n"
     ]
    }
   ],
   "source": [
    "# For a 2-tailed test take alpha / 2 regions on both sides of tail instead of alpha no one side.\n",
    "# Note: Since we are checking for the equality this is a 2-tailed test\n",
    "# The ppf function is equivalent to the inverse cdf (cumulative distribution function)\n",
    "critical_value = norm.ppf(1 - alpha)\n",
    "print(\"Z-critical value from Standard Normal distribution: \", critical_value)\n",
    "\n",
    "# Calculate the p value of our test_statistic\n",
    "p_value = 2 * norm.sf(abs(test_statistic))\n",
    "print(\"P-value of the 2-sample Z-test: \", round(p_value, 3))"
   ]
  },
  {
   "cell_type": "code",
   "execution_count": 8,
   "id": "86b39942",
   "metadata": {},
   "outputs": [],
   "source": [
    "# The p-value of < alpha shows that the control and experiment groups are different"
   ]
  },
  {
   "cell_type": "code",
   "execution_count": 9,
   "id": "7d76fec6",
   "metadata": {},
   "outputs": [
    {
     "name": "stdout",
     "output_type": "stream",
     "text": [
      "Confidence Interval of the 2 sample Z-test is:  [0.278, 0.3]\n"
     ]
    }
   ],
   "source": [
    "# Calculate the confidence interval to check the range of values for detecting the effect\n",
    "CI = [round((p_exp_hat - p_con_hat) - SE * critical_value, 3), round((p_exp_hat - p_con_hat) + SE * critical_value, 3)]\n",
    "print(\"Confidence Interval of the 2 sample Z-test is: \", CI)"
   ]
  },
  {
   "cell_type": "code",
   "execution_count": 10,
   "id": "e5d49998",
   "metadata": {},
   "outputs": [],
   "source": [
    "def plot_AB_test(test_statistic, critical_value):\n",
    "    import matplotlib.pyplot as plt\n",
    "\n",
    "    # Parameters for the standard normal distribution\n",
    "    mu = 0  # Mean\n",
    "    sigma = 1  # Standard deviation\n",
    "    x = np.linspace(mu - 3 * sigma, mu + 3 * sigma, 100)\n",
    "    y = norm.pdf(x, mu, sigma)\n",
    "\n",
    "    # Plotting the standard normal distribution\n",
    "    plt.plot(x, y, label = 'Standard Normal Distribution')\n",
    "\n",
    "    # Shade the rejection region for a two-tailed test\n",
    "    plt.fill_between(x, y, where = (x > critical_value) | (x < -critical_value), \n",
    "                                 color = 'red', alpha = 0.5, label = 'Rejection Region')\n",
    "\n",
    "    # Adding Test Statistic\n",
    "    plt.axvline(test_statistic, color = 'green', linestyle = 'dashed', linewidth = 2, \n",
    "                        label = f'Test Statistic = {test_statistic : .2f}')\n",
    "\n",
    "    # Adding Z-critical values\n",
    "    plt.axvline(critical_value, color = 'blue', linestyle = 'dashed', linewidth = 1, \n",
    "                        label = f'Z-critical = {critical_value : .2f}')\n",
    "    plt.axvline(-critical_value, color = 'blue', linestyle = 'dashed', linewidth = 1)\n",
    "\n",
    "    # Adding labels and title\n",
    "    plt.xlabel('Z-value')\n",
    "    plt.ylabel('Probability Density')\n",
    "    plt.title('Gaussian Distribution with Rejection Region')\n",
    "    plt.legend()\n",
    "\n",
    "    # Show plot\n",
    "    plt.show()"
   ]
  },
  {
   "cell_type": "code",
   "execution_count": 11,
   "id": "a1c3e142",
   "metadata": {},
   "outputs": [
    {
     "data": {
      "image/png": "[encoded data removed]",
      "text/plain": [
       "<Figure size 640x480 with 1 Axes>"
      ]
     },
     "metadata": {},
     "output_type": "display_data"
    }
   ],
   "source": [
    "plot_AB_test(test_statistic, critical_value)"
   ]
  },
  {
   "cell_type": "code",
   "execution_count": null,
   "id": "a61d95a7",
   "metadata": {},
   "outputs": [],
   "source": []
  }
 ],
 "metadata": {
  "kernelspec": {
   "display_name": "Python 3 (ipykernel)",
   "language": "python",
   "name": "python3"
  },
  "language_info": {
   "codemirror_mode": {
    "name": "ipython",
    "version": 3
   },
   "file_extension": ".py",
   "mimetype": "text/x-python",
   "name": "python",
   "nbconvert_exporter": "python",
   "pygments_lexer": "ipython3",
   "version": "3.11.5"
  }
 },
 "nbformat": 4,
 "nbformat_minor": 5
}
